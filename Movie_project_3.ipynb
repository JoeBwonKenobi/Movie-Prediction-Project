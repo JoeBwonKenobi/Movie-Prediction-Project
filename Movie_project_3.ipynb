{
 "cells": [
  {
   "cell_type": "markdown",
   "id": "c24be188",
   "metadata": {},
   "source": [
    "## **Movie Prediction ptoject**"
   ]
  },
  {
   "cell_type": "markdown",
   "id": "6627553c",
   "metadata": {},
   "source": [
    "Joe Lardie\n",
    "\n",
    "2/19/2023"
   ]
  },
  {
   "cell_type": "markdown",
   "id": "9da6954a",
   "metadata": {},
   "source": [
    "## **Imports**"
   ]
  },
  {
   "cell_type": "code",
   "execution_count": 1,
   "id": "8f4f4fe7",
   "metadata": {},
   "outputs": [],
   "source": [
    "import pandas as pd\n",
    "import numpy as np"
   ]
  },
  {
   "cell_type": "markdown",
   "id": "e3170064",
   "metadata": {},
   "source": [
    "## **Importing Data**"
   ]
  },
  {
   "cell_type": "code",
   "execution_count": 2,
   "id": "c6f01cca",
   "metadata": {},
   "outputs": [],
   "source": [
    "#Loading Basics data set\n",
    "basics_url = pd.read_csv(\"https://datasets.imdbws.com/title.basics.tsv.gz\",sep='\\t', low_memory=False)"
   ]
  },
  {
   "cell_type": "code",
   "execution_count": 3,
   "id": "38c52cad",
   "metadata": {},
   "outputs": [],
   "source": [
    "#Loading askas data set\n",
    "askas_url = pd.read_csv(\"https://datasets.imdbws.com/title.akas.tsv.gz\",sep='\\t', low_memory=False)"
   ]
  },
  {
   "cell_type": "code",
   "execution_count": 4,
   "id": "45203c8b",
   "metadata": {},
   "outputs": [],
   "source": [
    "#Loading ratings data set\n",
    "ratings_url = pd.read_csv(\"https://datasets.imdbws.com/title.ratings.tsv.gz\",sep='\\t', low_memory=False)"
   ]
  },
  {
   "cell_type": "code",
   "execution_count": 5,
   "id": "d2c5c5b6",
   "metadata": {
    "scrolled": true
   },
   "outputs": [
    {
     "data": {
      "text/html": [
       "<div>\n",
       "<style scoped>\n",
       "    .dataframe tbody tr th:only-of-type {\n",
       "        vertical-align: middle;\n",
       "    }\n",
       "\n",
       "    .dataframe tbody tr th {\n",
       "        vertical-align: top;\n",
       "    }\n",
       "\n",
       "    .dataframe thead th {\n",
       "        text-align: right;\n",
       "    }\n",
       "</style>\n",
       "<table border=\"1\" class=\"dataframe\">\n",
       "  <thead>\n",
       "    <tr style=\"text-align: right;\">\n",
       "      <th></th>\n",
       "      <th>tconst</th>\n",
       "      <th>titleType</th>\n",
       "      <th>primaryTitle</th>\n",
       "      <th>originalTitle</th>\n",
       "      <th>isAdult</th>\n",
       "      <th>startYear</th>\n",
       "      <th>endYear</th>\n",
       "      <th>runtimeMinutes</th>\n",
       "      <th>genres</th>\n",
       "    </tr>\n",
       "  </thead>\n",
       "  <tbody>\n",
       "    <tr>\n",
       "      <th>0</th>\n",
       "      <td>tt0000001</td>\n",
       "      <td>short</td>\n",
       "      <td>Carmencita</td>\n",
       "      <td>Carmencita</td>\n",
       "      <td>0</td>\n",
       "      <td>1894</td>\n",
       "      <td>\\N</td>\n",
       "      <td>1</td>\n",
       "      <td>Documentary,Short</td>\n",
       "    </tr>\n",
       "    <tr>\n",
       "      <th>1</th>\n",
       "      <td>tt0000002</td>\n",
       "      <td>short</td>\n",
       "      <td>Le clown et ses chiens</td>\n",
       "      <td>Le clown et ses chiens</td>\n",
       "      <td>0</td>\n",
       "      <td>1892</td>\n",
       "      <td>\\N</td>\n",
       "      <td>5</td>\n",
       "      <td>Animation,Short</td>\n",
       "    </tr>\n",
       "    <tr>\n",
       "      <th>2</th>\n",
       "      <td>tt0000003</td>\n",
       "      <td>short</td>\n",
       "      <td>Pauvre Pierrot</td>\n",
       "      <td>Pauvre Pierrot</td>\n",
       "      <td>0</td>\n",
       "      <td>1892</td>\n",
       "      <td>\\N</td>\n",
       "      <td>4</td>\n",
       "      <td>Animation,Comedy,Romance</td>\n",
       "    </tr>\n",
       "    <tr>\n",
       "      <th>3</th>\n",
       "      <td>tt0000004</td>\n",
       "      <td>short</td>\n",
       "      <td>Un bon bock</td>\n",
       "      <td>Un bon bock</td>\n",
       "      <td>0</td>\n",
       "      <td>1892</td>\n",
       "      <td>\\N</td>\n",
       "      <td>12</td>\n",
       "      <td>Animation,Short</td>\n",
       "    </tr>\n",
       "    <tr>\n",
       "      <th>4</th>\n",
       "      <td>tt0000005</td>\n",
       "      <td>short</td>\n",
       "      <td>Blacksmith Scene</td>\n",
       "      <td>Blacksmith Scene</td>\n",
       "      <td>0</td>\n",
       "      <td>1893</td>\n",
       "      <td>\\N</td>\n",
       "      <td>1</td>\n",
       "      <td>Comedy,Short</td>\n",
       "    </tr>\n",
       "  </tbody>\n",
       "</table>\n",
       "</div>"
      ],
      "text/plain": [
       "      tconst titleType            primaryTitle           originalTitle  \\\n",
       "0  tt0000001     short              Carmencita              Carmencita   \n",
       "1  tt0000002     short  Le clown et ses chiens  Le clown et ses chiens   \n",
       "2  tt0000003     short          Pauvre Pierrot          Pauvre Pierrot   \n",
       "3  tt0000004     short             Un bon bock             Un bon bock   \n",
       "4  tt0000005     short        Blacksmith Scene        Blacksmith Scene   \n",
       "\n",
       "  isAdult startYear endYear runtimeMinutes                    genres  \n",
       "0       0      1894      \\N              1         Documentary,Short  \n",
       "1       0      1892      \\N              5           Animation,Short  \n",
       "2       0      1892      \\N              4  Animation,Comedy,Romance  \n",
       "3       0      1892      \\N             12           Animation,Short  \n",
       "4       0      1893      \\N              1              Comedy,Short  "
      ]
     },
     "execution_count": 5,
     "metadata": {},
     "output_type": "execute_result"
    }
   ],
   "source": [
    "basics_url.head()"
   ]
  },
  {
   "cell_type": "markdown",
   "id": "ecf3ae35",
   "metadata": {},
   "source": [
    "## **Preprocessing**"
   ]
  },
  {
   "cell_type": "markdown",
   "id": "cd7fa458",
   "metadata": {},
   "source": [
    "### **Data Cleaning**"
   ]
  },
  {
   "cell_type": "code",
   "execution_count": 6,
   "id": "5908638f",
   "metadata": {},
   "outputs": [],
   "source": [
    "#Replacing '\\\\N' with nan\n",
    "basics_url.replace({'\\\\N':np.nan}, inplace = True)"
   ]
  },
  {
   "cell_type": "code",
   "execution_count": 7,
   "id": "30ee4897",
   "metadata": {
    "scrolled": true
   },
   "outputs": [
    {
     "data": {
      "text/html": [
       "<div>\n",
       "<style scoped>\n",
       "    .dataframe tbody tr th:only-of-type {\n",
       "        vertical-align: middle;\n",
       "    }\n",
       "\n",
       "    .dataframe tbody tr th {\n",
       "        vertical-align: top;\n",
       "    }\n",
       "\n",
       "    .dataframe thead th {\n",
       "        text-align: right;\n",
       "    }\n",
       "</style>\n",
       "<table border=\"1\" class=\"dataframe\">\n",
       "  <thead>\n",
       "    <tr style=\"text-align: right;\">\n",
       "      <th></th>\n",
       "      <th>tconst</th>\n",
       "      <th>titleType</th>\n",
       "      <th>primaryTitle</th>\n",
       "      <th>originalTitle</th>\n",
       "      <th>isAdult</th>\n",
       "      <th>startYear</th>\n",
       "      <th>endYear</th>\n",
       "      <th>runtimeMinutes</th>\n",
       "      <th>genres</th>\n",
       "    </tr>\n",
       "  </thead>\n",
       "  <tbody>\n",
       "    <tr>\n",
       "      <th>0</th>\n",
       "      <td>tt0000001</td>\n",
       "      <td>short</td>\n",
       "      <td>Carmencita</td>\n",
       "      <td>Carmencita</td>\n",
       "      <td>0</td>\n",
       "      <td>1894</td>\n",
       "      <td>NaN</td>\n",
       "      <td>1</td>\n",
       "      <td>Documentary,Short</td>\n",
       "    </tr>\n",
       "    <tr>\n",
       "      <th>1</th>\n",
       "      <td>tt0000002</td>\n",
       "      <td>short</td>\n",
       "      <td>Le clown et ses chiens</td>\n",
       "      <td>Le clown et ses chiens</td>\n",
       "      <td>0</td>\n",
       "      <td>1892</td>\n",
       "      <td>NaN</td>\n",
       "      <td>5</td>\n",
       "      <td>Animation,Short</td>\n",
       "    </tr>\n",
       "    <tr>\n",
       "      <th>2</th>\n",
       "      <td>tt0000003</td>\n",
       "      <td>short</td>\n",
       "      <td>Pauvre Pierrot</td>\n",
       "      <td>Pauvre Pierrot</td>\n",
       "      <td>0</td>\n",
       "      <td>1892</td>\n",
       "      <td>NaN</td>\n",
       "      <td>4</td>\n",
       "      <td>Animation,Comedy,Romance</td>\n",
       "    </tr>\n",
       "    <tr>\n",
       "      <th>3</th>\n",
       "      <td>tt0000004</td>\n",
       "      <td>short</td>\n",
       "      <td>Un bon bock</td>\n",
       "      <td>Un bon bock</td>\n",
       "      <td>0</td>\n",
       "      <td>1892</td>\n",
       "      <td>NaN</td>\n",
       "      <td>12</td>\n",
       "      <td>Animation,Short</td>\n",
       "    </tr>\n",
       "    <tr>\n",
       "      <th>4</th>\n",
       "      <td>tt0000005</td>\n",
       "      <td>short</td>\n",
       "      <td>Blacksmith Scene</td>\n",
       "      <td>Blacksmith Scene</td>\n",
       "      <td>0</td>\n",
       "      <td>1893</td>\n",
       "      <td>NaN</td>\n",
       "      <td>1</td>\n",
       "      <td>Comedy,Short</td>\n",
       "    </tr>\n",
       "  </tbody>\n",
       "</table>\n",
       "</div>"
      ],
      "text/plain": [
       "      tconst titleType            primaryTitle           originalTitle  \\\n",
       "0  tt0000001     short              Carmencita              Carmencita   \n",
       "1  tt0000002     short  Le clown et ses chiens  Le clown et ses chiens   \n",
       "2  tt0000003     short          Pauvre Pierrot          Pauvre Pierrot   \n",
       "3  tt0000004     short             Un bon bock             Un bon bock   \n",
       "4  tt0000005     short        Blacksmith Scene        Blacksmith Scene   \n",
       "\n",
       "  isAdult startYear endYear runtimeMinutes                    genres  \n",
       "0       0      1894     NaN              1         Documentary,Short  \n",
       "1       0      1892     NaN              5           Animation,Short  \n",
       "2       0      1892     NaN              4  Animation,Comedy,Romance  \n",
       "3       0      1892     NaN             12           Animation,Short  \n",
       "4       0      1893     NaN              1              Comedy,Short  "
      ]
     },
     "execution_count": 7,
     "metadata": {},
     "output_type": "execute_result"
    }
   ],
   "source": [
    "#Checking it worked\n",
    "basics_url.head()"
   ]
  },
  {
   "cell_type": "code",
   "execution_count": 8,
   "id": "aab7aea8",
   "metadata": {},
   "outputs": [],
   "source": [
    "#Replacing '\\\\N' with nan\n",
    "askas_url.replace({'\\\\N':np.nan}, inplace = True)"
   ]
  },
  {
   "cell_type": "code",
   "execution_count": 9,
   "id": "cef47969",
   "metadata": {},
   "outputs": [
    {
     "data": {
      "text/html": [
       "<div>\n",
       "<style scoped>\n",
       "    .dataframe tbody tr th:only-of-type {\n",
       "        vertical-align: middle;\n",
       "    }\n",
       "\n",
       "    .dataframe tbody tr th {\n",
       "        vertical-align: top;\n",
       "    }\n",
       "\n",
       "    .dataframe thead th {\n",
       "        text-align: right;\n",
       "    }\n",
       "</style>\n",
       "<table border=\"1\" class=\"dataframe\">\n",
       "  <thead>\n",
       "    <tr style=\"text-align: right;\">\n",
       "      <th></th>\n",
       "      <th>titleId</th>\n",
       "      <th>ordering</th>\n",
       "      <th>title</th>\n",
       "      <th>region</th>\n",
       "      <th>language</th>\n",
       "      <th>types</th>\n",
       "      <th>attributes</th>\n",
       "      <th>isOriginalTitle</th>\n",
       "    </tr>\n",
       "  </thead>\n",
       "  <tbody>\n",
       "    <tr>\n",
       "      <th>0</th>\n",
       "      <td>tt0000001</td>\n",
       "      <td>1</td>\n",
       "      <td>Карменсіта</td>\n",
       "      <td>UA</td>\n",
       "      <td>NaN</td>\n",
       "      <td>imdbDisplay</td>\n",
       "      <td>NaN</td>\n",
       "      <td>0</td>\n",
       "    </tr>\n",
       "    <tr>\n",
       "      <th>1</th>\n",
       "      <td>tt0000001</td>\n",
       "      <td>2</td>\n",
       "      <td>Carmencita</td>\n",
       "      <td>DE</td>\n",
       "      <td>NaN</td>\n",
       "      <td>NaN</td>\n",
       "      <td>literal title</td>\n",
       "      <td>0</td>\n",
       "    </tr>\n",
       "    <tr>\n",
       "      <th>2</th>\n",
       "      <td>tt0000001</td>\n",
       "      <td>3</td>\n",
       "      <td>Carmencita - spanyol tánc</td>\n",
       "      <td>HU</td>\n",
       "      <td>NaN</td>\n",
       "      <td>imdbDisplay</td>\n",
       "      <td>NaN</td>\n",
       "      <td>0</td>\n",
       "    </tr>\n",
       "    <tr>\n",
       "      <th>3</th>\n",
       "      <td>tt0000001</td>\n",
       "      <td>4</td>\n",
       "      <td>Καρμενσίτα</td>\n",
       "      <td>GR</td>\n",
       "      <td>NaN</td>\n",
       "      <td>imdbDisplay</td>\n",
       "      <td>NaN</td>\n",
       "      <td>0</td>\n",
       "    </tr>\n",
       "    <tr>\n",
       "      <th>4</th>\n",
       "      <td>tt0000001</td>\n",
       "      <td>5</td>\n",
       "      <td>Карменсита</td>\n",
       "      <td>RU</td>\n",
       "      <td>NaN</td>\n",
       "      <td>imdbDisplay</td>\n",
       "      <td>NaN</td>\n",
       "      <td>0</td>\n",
       "    </tr>\n",
       "  </tbody>\n",
       "</table>\n",
       "</div>"
      ],
      "text/plain": [
       "     titleId  ordering                      title region language  \\\n",
       "0  tt0000001         1                 Карменсіта     UA      NaN   \n",
       "1  tt0000001         2                 Carmencita     DE      NaN   \n",
       "2  tt0000001         3  Carmencita - spanyol tánc     HU      NaN   \n",
       "3  tt0000001         4                 Καρμενσίτα     GR      NaN   \n",
       "4  tt0000001         5                 Карменсита     RU      NaN   \n",
       "\n",
       "         types     attributes isOriginalTitle  \n",
       "0  imdbDisplay            NaN               0  \n",
       "1          NaN  literal title               0  \n",
       "2  imdbDisplay            NaN               0  \n",
       "3  imdbDisplay            NaN               0  \n",
       "4  imdbDisplay            NaN               0  "
      ]
     },
     "execution_count": 9,
     "metadata": {},
     "output_type": "execute_result"
    }
   ],
   "source": [
    "#Checking it worked\n",
    "askas_url.head()"
   ]
  },
  {
   "cell_type": "code",
   "execution_count": 10,
   "id": "5f51b0a7",
   "metadata": {},
   "outputs": [],
   "source": [
    "#Replacing '\\\\N' with nan\n",
    "ratings_url.replace({'\\\\N':np.nan}, inplace = True)"
   ]
  },
  {
   "cell_type": "code",
   "execution_count": 11,
   "id": "df3ebb54",
   "metadata": {
    "scrolled": true
   },
   "outputs": [
    {
     "data": {
      "text/html": [
       "<div>\n",
       "<style scoped>\n",
       "    .dataframe tbody tr th:only-of-type {\n",
       "        vertical-align: middle;\n",
       "    }\n",
       "\n",
       "    .dataframe tbody tr th {\n",
       "        vertical-align: top;\n",
       "    }\n",
       "\n",
       "    .dataframe thead th {\n",
       "        text-align: right;\n",
       "    }\n",
       "</style>\n",
       "<table border=\"1\" class=\"dataframe\">\n",
       "  <thead>\n",
       "    <tr style=\"text-align: right;\">\n",
       "      <th></th>\n",
       "      <th>tconst</th>\n",
       "      <th>averageRating</th>\n",
       "      <th>numVotes</th>\n",
       "    </tr>\n",
       "  </thead>\n",
       "  <tbody>\n",
       "    <tr>\n",
       "      <th>0</th>\n",
       "      <td>tt0000001</td>\n",
       "      <td>5.7</td>\n",
       "      <td>1954</td>\n",
       "    </tr>\n",
       "    <tr>\n",
       "      <th>1</th>\n",
       "      <td>tt0000002</td>\n",
       "      <td>5.8</td>\n",
       "      <td>263</td>\n",
       "    </tr>\n",
       "    <tr>\n",
       "      <th>2</th>\n",
       "      <td>tt0000003</td>\n",
       "      <td>6.5</td>\n",
       "      <td>1787</td>\n",
       "    </tr>\n",
       "    <tr>\n",
       "      <th>3</th>\n",
       "      <td>tt0000004</td>\n",
       "      <td>5.6</td>\n",
       "      <td>179</td>\n",
       "    </tr>\n",
       "    <tr>\n",
       "      <th>4</th>\n",
       "      <td>tt0000005</td>\n",
       "      <td>6.2</td>\n",
       "      <td>2589</td>\n",
       "    </tr>\n",
       "  </tbody>\n",
       "</table>\n",
       "</div>"
      ],
      "text/plain": [
       "      tconst  averageRating  numVotes\n",
       "0  tt0000001            5.7      1954\n",
       "1  tt0000002            5.8       263\n",
       "2  tt0000003            6.5      1787\n",
       "3  tt0000004            5.6       179\n",
       "4  tt0000005            6.2      2589"
      ]
     },
     "execution_count": 11,
     "metadata": {},
     "output_type": "execute_result"
    }
   ],
   "source": [
    "#Checking it worked\n",
    "ratings_url.head()"
   ]
  },
  {
   "cell_type": "markdown",
   "id": "341f330e",
   "metadata": {},
   "source": [
    "## **Eliminate movies that are null for runtimeminutes**"
   ]
  },
  {
   "cell_type": "code",
   "execution_count": 12,
   "id": "4019ee7e",
   "metadata": {
    "scrolled": true
   },
   "outputs": [],
   "source": [
    "basics_url = basics_url.dropna(subset=[\"runtimeMinutes\"])"
   ]
  },
  {
   "cell_type": "markdown",
   "id": "641f4bbc",
   "metadata": {},
   "source": [
    "## **Eliminate movies that are null for genre**"
   ]
  },
  {
   "cell_type": "code",
   "execution_count": 13,
   "id": "b8ee82a6",
   "metadata": {},
   "outputs": [],
   "source": [
    "basics_url = basics_url.dropna(subset=['genres'])"
   ]
  },
  {
   "cell_type": "markdown",
   "id": "d0f8fc6e",
   "metadata": {},
   "source": [
    "## **Keep only titleType==Movie**"
   ]
  },
  {
   "cell_type": "code",
   "execution_count": 14,
   "id": "9d677509",
   "metadata": {},
   "outputs": [],
   "source": [
    "basics_url = basics_url[basics_url['titleType'].str.lower() == 'movie']"
   ]
  },
  {
   "cell_type": "markdown",
   "id": "e3b0654f",
   "metadata": {},
   "source": [
    "## **Keep startYear 200-2022**"
   ]
  },
  {
   "cell_type": "code",
   "execution_count": 15,
   "id": "4d973a1d",
   "metadata": {},
   "outputs": [
    {
     "data": {
      "text/plain": [
       "tconst                 0\n",
       "titleType              0\n",
       "primaryTitle           0\n",
       "originalTitle          0\n",
       "isAdult                0\n",
       "startYear           6381\n",
       "endYear           377695\n",
       "runtimeMinutes         0\n",
       "genres                 0\n",
       "dtype: int64"
      ]
     },
     "execution_count": 15,
     "metadata": {},
     "output_type": "execute_result"
    }
   ],
   "source": [
    "basics_url.isna().sum()"
   ]
  },
  {
   "cell_type": "code",
   "execution_count": 16,
   "id": "d4179fc0",
   "metadata": {},
   "outputs": [],
   "source": [
    "#Fill the missing values with (0) and convert the column to integer type\n",
    "basics_url['startYear']=basics_url['startYear'].fillna(0).astype(float)"
   ]
  },
  {
   "cell_type": "code",
   "execution_count": 17,
   "id": "7fba8cfa",
   "metadata": {},
   "outputs": [
    {
     "name": "stdout",
     "output_type": "stream",
     "text": [
      "<class 'pandas.core.frame.DataFrame'>\n",
      "Int64Index: 377695 entries, 8 to 9638170\n",
      "Data columns (total 9 columns):\n",
      " #   Column          Non-Null Count   Dtype  \n",
      "---  ------          --------------   -----  \n",
      " 0   tconst          377695 non-null  object \n",
      " 1   titleType       377695 non-null  object \n",
      " 2   primaryTitle    377695 non-null  object \n",
      " 3   originalTitle   377695 non-null  object \n",
      " 4   isAdult         377695 non-null  object \n",
      " 5   startYear       377695 non-null  float64\n",
      " 6   endYear         0 non-null       object \n",
      " 7   runtimeMinutes  377695 non-null  object \n",
      " 8   genres          377695 non-null  object \n",
      "dtypes: float64(1), object(8)\n",
      "memory usage: 28.8+ MB\n"
     ]
    }
   ],
   "source": [
    "basics_url.info()"
   ]
  },
  {
   "cell_type": "code",
   "execution_count": 18,
   "id": "aa3670f9",
   "metadata": {},
   "outputs": [],
   "source": [
    "#include only movies that were released between 2000 - 2021(include 2000 & 2021)\n",
    "filtered_movies = basics_url[(basics_url['startYear'] >= 2000)&(basics_url['startYear'] <= 2021)]"
   ]
  },
  {
   "cell_type": "code",
   "execution_count": 19,
   "id": "2966ef49",
   "metadata": {},
   "outputs": [
    {
     "name": "stdout",
     "output_type": "stream",
     "text": [
      "            tconst titleType  \\\n",
      "13082    tt0013274     movie   \n",
      "34803    tt0035423     movie   \n",
      "61116    tt0062336     movie   \n",
      "67669    tt0069049     movie   \n",
      "77964    tt0079644     movie   \n",
      "...            ...       ...   \n",
      "9637986  tt9916362     movie   \n",
      "9638070  tt9916538     movie   \n",
      "9638111  tt9916622     movie   \n",
      "9638138  tt9916680     movie   \n",
      "9638170  tt9916754     movie   \n",
      "\n",
      "                                              primaryTitle  \\\n",
      "13082                          Istoriya grazhdanskoy voyny   \n",
      "34803                                       Kate & Leopold   \n",
      "61116    The Tango of the Widower and Its Distorting Mi...   \n",
      "67669                           The Other Side of the Wind   \n",
      "77964                                        November 1828   \n",
      "...                                                    ...   \n",
      "9637986                                              Coven   \n",
      "9638070                                Kuambil Lagi Hatiku   \n",
      "9638111        Rodolpho Teóphilo - O Legado de um Pioneiro   \n",
      "9638138  De la ilusión al desconcierto: cine colombiano...   \n",
      "9638170                     Chico Albuquerque - Revelações   \n",
      "\n",
      "                                             originalTitle isAdult  startYear  \\\n",
      "13082                          Istoriya grazhdanskoy voyny       0     2021.0   \n",
      "34803                                       Kate & Leopold       0     2001.0   \n",
      "61116            El tango del viudo y su espejo deformante       0     2020.0   \n",
      "67669                           The Other Side of the Wind       0     2018.0   \n",
      "77964                                        November 1828       0     2001.0   \n",
      "...                                                    ...     ...        ...   \n",
      "9637986                                           Akelarre       0     2020.0   \n",
      "9638070                                Kuambil Lagi Hatiku       0     2019.0   \n",
      "9638111        Rodolpho Teóphilo - O Legado de um Pioneiro       0     2015.0   \n",
      "9638138  De la ilusión al desconcierto: cine colombiano...       0     2007.0   \n",
      "9638170                     Chico Albuquerque - Revelações       0     2013.0   \n",
      "\n",
      "        endYear runtimeMinutes                  genres  \n",
      "13082       NaN            133             Documentary  \n",
      "34803       NaN            118  Comedy,Fantasy,Romance  \n",
      "61116       NaN             70                   Drama  \n",
      "67669       NaN            122                   Drama  \n",
      "77964       NaN            140               Drama,War  \n",
      "...         ...            ...                     ...  \n",
      "9637986     NaN             92           Drama,History  \n",
      "9638070     NaN            123                   Drama  \n",
      "9638111     NaN             57             Documentary  \n",
      "9638138     NaN            100             Documentary  \n",
      "9638170     NaN             49             Documentary  \n",
      "\n",
      "[209479 rows x 9 columns]\n"
     ]
    }
   ],
   "source": [
    "print(filtered_movies)"
   ]
  },
  {
   "cell_type": "code",
   "execution_count": 20,
   "id": "95a840a9",
   "metadata": {
    "scrolled": true
   },
   "outputs": [
    {
     "data": {
      "text/plain": [
       "2017.0    14313\n",
       "2018.0    14266\n",
       "2019.0    13983\n",
       "2016.0    13913\n",
       "2015.0    13429\n",
       "2014.0    13051\n",
       "2013.0    12350\n",
       "2021.0    12167\n",
       "2012.0    11605\n",
       "2020.0    11454\n",
       "2011.0    10747\n",
       "2010.0    10181\n",
       "2009.0     9325\n",
       "2008.0     8128\n",
       "2007.0     6940\n",
       "2006.0     6486\n",
       "2005.0     5801\n",
       "2004.0     5181\n",
       "2003.0     4567\n",
       "2002.0     4116\n",
       "2001.0     3846\n",
       "2000.0     3630\n",
       "Name: startYear, dtype: int64"
      ]
     },
     "execution_count": 20,
     "metadata": {},
     "output_type": "execute_result"
    }
   ],
   "source": [
    "#Checking that only movies between 2000-2021 remain.\n",
    "filtered_movies['startYear'].value_counts()"
   ]
  },
  {
   "cell_type": "markdown",
   "id": "243a28f6",
   "metadata": {},
   "source": [
    "## **Include only fictional Movies**"
   ]
  },
  {
   "cell_type": "code",
   "execution_count": 21,
   "id": "be2da379",
   "metadata": {
    "scrolled": false
   },
   "outputs": [],
   "source": [
    "# Exclude movies that are included in the documentary category.\n",
    "is_documentary = filtered_movies['genres'].str.contains('documentary',case=False)\n",
    "filtered_movies = filtered_movies[~is_documentary]"
   ]
  },
  {
   "cell_type": "markdown",
   "id": "8ef0d526",
   "metadata": {},
   "source": [
    "## **Include only movies that were released in the US**"
   ]
  },
  {
   "cell_type": "code",
   "execution_count": 22,
   "id": "df9de866",
   "metadata": {},
   "outputs": [],
   "source": [
    "usfilter = askas_url['region']=='US'\n",
    "askas_url = askas_url[usfilter]"
   ]
  },
  {
   "cell_type": "code",
   "execution_count": 23,
   "id": "18884e31",
   "metadata": {
    "scrolled": true
   },
   "outputs": [],
   "source": [
    "askas_url = askas_url.rename(columns={'titleId' : 'tconst'})\n",
    "merged_url = pd.merge(filtered_movies, askas_url, on='tconst')"
   ]
  },
  {
   "cell_type": "code",
   "execution_count": 24,
   "id": "7545f94e",
   "metadata": {
    "scrolled": true
   },
   "outputs": [
    {
     "data": {
      "text/html": [
       "<div>\n",
       "<style scoped>\n",
       "    .dataframe tbody tr th:only-of-type {\n",
       "        vertical-align: middle;\n",
       "    }\n",
       "\n",
       "    .dataframe tbody tr th {\n",
       "        vertical-align: top;\n",
       "    }\n",
       "\n",
       "    .dataframe thead th {\n",
       "        text-align: right;\n",
       "    }\n",
       "</style>\n",
       "<table border=\"1\" class=\"dataframe\">\n",
       "  <thead>\n",
       "    <tr style=\"text-align: right;\">\n",
       "      <th></th>\n",
       "      <th>tconst</th>\n",
       "      <th>titleType</th>\n",
       "      <th>primaryTitle</th>\n",
       "      <th>originalTitle</th>\n",
       "      <th>isAdult</th>\n",
       "      <th>startYear</th>\n",
       "      <th>endYear</th>\n",
       "      <th>runtimeMinutes</th>\n",
       "      <th>genres</th>\n",
       "      <th>ordering</th>\n",
       "      <th>title</th>\n",
       "      <th>region</th>\n",
       "      <th>language</th>\n",
       "      <th>types</th>\n",
       "      <th>attributes</th>\n",
       "      <th>isOriginalTitle</th>\n",
       "    </tr>\n",
       "  </thead>\n",
       "  <tbody>\n",
       "    <tr>\n",
       "      <th>0</th>\n",
       "      <td>tt0035423</td>\n",
       "      <td>movie</td>\n",
       "      <td>Kate &amp; Leopold</td>\n",
       "      <td>Kate &amp; Leopold</td>\n",
       "      <td>0</td>\n",
       "      <td>2001.0</td>\n",
       "      <td>NaN</td>\n",
       "      <td>118</td>\n",
       "      <td>Comedy,Fantasy,Romance</td>\n",
       "      <td>37</td>\n",
       "      <td>Kate and Leopold</td>\n",
       "      <td>US</td>\n",
       "      <td>NaN</td>\n",
       "      <td>NaN</td>\n",
       "      <td>alternative spelling</td>\n",
       "      <td>0</td>\n",
       "    </tr>\n",
       "    <tr>\n",
       "      <th>1</th>\n",
       "      <td>tt0035423</td>\n",
       "      <td>movie</td>\n",
       "      <td>Kate &amp; Leopold</td>\n",
       "      <td>Kate &amp; Leopold</td>\n",
       "      <td>0</td>\n",
       "      <td>2001.0</td>\n",
       "      <td>NaN</td>\n",
       "      <td>118</td>\n",
       "      <td>Comedy,Fantasy,Romance</td>\n",
       "      <td>39</td>\n",
       "      <td>Kate &amp; Leopold</td>\n",
       "      <td>US</td>\n",
       "      <td>NaN</td>\n",
       "      <td>imdbDisplay</td>\n",
       "      <td>NaN</td>\n",
       "      <td>0</td>\n",
       "    </tr>\n",
       "    <tr>\n",
       "      <th>2</th>\n",
       "      <td>tt0062336</td>\n",
       "      <td>movie</td>\n",
       "      <td>The Tango of the Widower and Its Distorting Mi...</td>\n",
       "      <td>El tango del viudo y su espejo deformante</td>\n",
       "      <td>0</td>\n",
       "      <td>2020.0</td>\n",
       "      <td>NaN</td>\n",
       "      <td>70</td>\n",
       "      <td>Drama</td>\n",
       "      <td>6</td>\n",
       "      <td>The Tango of the Widower and Its Distorting Mi...</td>\n",
       "      <td>US</td>\n",
       "      <td>NaN</td>\n",
       "      <td>imdbDisplay</td>\n",
       "      <td>NaN</td>\n",
       "      <td>0</td>\n",
       "    </tr>\n",
       "    <tr>\n",
       "      <th>3</th>\n",
       "      <td>tt0069049</td>\n",
       "      <td>movie</td>\n",
       "      <td>The Other Side of the Wind</td>\n",
       "      <td>The Other Side of the Wind</td>\n",
       "      <td>0</td>\n",
       "      <td>2018.0</td>\n",
       "      <td>NaN</td>\n",
       "      <td>122</td>\n",
       "      <td>Drama</td>\n",
       "      <td>3</td>\n",
       "      <td>The Other Side of the Wind</td>\n",
       "      <td>US</td>\n",
       "      <td>NaN</td>\n",
       "      <td>imdbDisplay</td>\n",
       "      <td>NaN</td>\n",
       "      <td>0</td>\n",
       "    </tr>\n",
       "    <tr>\n",
       "      <th>4</th>\n",
       "      <td>tt0088751</td>\n",
       "      <td>movie</td>\n",
       "      <td>The Naked Monster</td>\n",
       "      <td>The Naked Monster</td>\n",
       "      <td>0</td>\n",
       "      <td>2005.0</td>\n",
       "      <td>NaN</td>\n",
       "      <td>100</td>\n",
       "      <td>Comedy,Horror,Sci-Fi</td>\n",
       "      <td>1</td>\n",
       "      <td>Attack of the B-Movie Monster</td>\n",
       "      <td>US</td>\n",
       "      <td>NaN</td>\n",
       "      <td>working</td>\n",
       "      <td>NaN</td>\n",
       "      <td>0</td>\n",
       "    </tr>\n",
       "  </tbody>\n",
       "</table>\n",
       "</div>"
      ],
      "text/plain": [
       "      tconst titleType                                       primaryTitle  \\\n",
       "0  tt0035423     movie                                     Kate & Leopold   \n",
       "1  tt0035423     movie                                     Kate & Leopold   \n",
       "2  tt0062336     movie  The Tango of the Widower and Its Distorting Mi...   \n",
       "3  tt0069049     movie                         The Other Side of the Wind   \n",
       "4  tt0088751     movie                                  The Naked Monster   \n",
       "\n",
       "                               originalTitle isAdult  startYear endYear  \\\n",
       "0                             Kate & Leopold       0     2001.0     NaN   \n",
       "1                             Kate & Leopold       0     2001.0     NaN   \n",
       "2  El tango del viudo y su espejo deformante       0     2020.0     NaN   \n",
       "3                 The Other Side of the Wind       0     2018.0     NaN   \n",
       "4                          The Naked Monster       0     2005.0     NaN   \n",
       "\n",
       "  runtimeMinutes                  genres  ordering  \\\n",
       "0            118  Comedy,Fantasy,Romance        37   \n",
       "1            118  Comedy,Fantasy,Romance        39   \n",
       "2             70                   Drama         6   \n",
       "3            122                   Drama         3   \n",
       "4            100    Comedy,Horror,Sci-Fi         1   \n",
       "\n",
       "                                               title region language  \\\n",
       "0                                   Kate and Leopold     US      NaN   \n",
       "1                                     Kate & Leopold     US      NaN   \n",
       "2  The Tango of the Widower and Its Distorting Mi...     US      NaN   \n",
       "3                         The Other Side of the Wind     US      NaN   \n",
       "4                      Attack of the B-Movie Monster     US      NaN   \n",
       "\n",
       "         types            attributes isOriginalTitle  \n",
       "0          NaN  alternative spelling               0  \n",
       "1  imdbDisplay                   NaN               0  \n",
       "2  imdbDisplay                   NaN               0  \n",
       "3  imdbDisplay                   NaN               0  \n",
       "4      working                   NaN               0  "
      ]
     },
     "execution_count": 24,
     "metadata": {},
     "output_type": "execute_result"
    }
   ],
   "source": [
    "merged_url.head()"
   ]
  },
  {
   "cell_type": "code",
   "execution_count": 25,
   "id": "2df1e42c",
   "metadata": {},
   "outputs": [
    {
     "name": "stdout",
     "output_type": "stream",
     "text": [
      "<class 'pandas.core.frame.DataFrame'>\n",
      "Int64Index: 377695 entries, 8 to 9638170\n",
      "Data columns (total 9 columns):\n",
      " #   Column          Non-Null Count   Dtype  \n",
      "---  ------          --------------   -----  \n",
      " 0   tconst          377695 non-null  object \n",
      " 1   titleType       377695 non-null  object \n",
      " 2   primaryTitle    377695 non-null  object \n",
      " 3   originalTitle   377695 non-null  object \n",
      " 4   isAdult         377695 non-null  object \n",
      " 5   startYear       377695 non-null  float64\n",
      " 6   endYear         0 non-null       object \n",
      " 7   runtimeMinutes  377695 non-null  object \n",
      " 8   genres          377695 non-null  object \n",
      "dtypes: float64(1), object(8)\n",
      "memory usage: 28.8+ MB\n"
     ]
    }
   ],
   "source": [
    "basics_url.info()"
   ]
  },
  {
   "cell_type": "code",
   "execution_count": 26,
   "id": "fb8cc539",
   "metadata": {},
   "outputs": [
    {
     "name": "stdout",
     "output_type": "stream",
     "text": [
      "<class 'pandas.core.frame.DataFrame'>\n",
      "Int64Index: 1416568 entries, 5 to 35026261\n",
      "Data columns (total 8 columns):\n",
      " #   Column           Non-Null Count    Dtype \n",
      "---  ------           --------------    ----- \n",
      " 0   tconst           1416568 non-null  object\n",
      " 1   ordering         1416568 non-null  int64 \n",
      " 2   title            1416568 non-null  object\n",
      " 3   region           1416568 non-null  object\n",
      " 4   language         3833 non-null     object\n",
      " 5   types            974118 non-null   object\n",
      " 6   attributes       46043 non-null    object\n",
      " 7   isOriginalTitle  1415223 non-null  object\n",
      "dtypes: int64(1), object(7)\n",
      "memory usage: 97.3+ MB\n"
     ]
    }
   ],
   "source": [
    "askas_url.info()"
   ]
  },
  {
   "cell_type": "code",
   "execution_count": 27,
   "id": "c36f8623",
   "metadata": {},
   "outputs": [
    {
     "name": "stdout",
     "output_type": "stream",
     "text": [
      "<class 'pandas.core.frame.DataFrame'>\n",
      "RangeIndex: 1282932 entries, 0 to 1282931\n",
      "Data columns (total 3 columns):\n",
      " #   Column         Non-Null Count    Dtype  \n",
      "---  ------         --------------    -----  \n",
      " 0   tconst         1282932 non-null  object \n",
      " 1   averageRating  1282932 non-null  float64\n",
      " 2   numVotes       1282932 non-null  int64  \n",
      "dtypes: float64(1), int64(1), object(1)\n",
      "memory usage: 29.4+ MB\n"
     ]
    }
   ],
   "source": [
    "ratings_url.info()"
   ]
  }
 ],
 "metadata": {
  "kernelspec": {
   "display_name": "Python (dojo-env)",
   "language": "python",
   "name": "dojo-env"
  },
  "language_info": {
   "codemirror_mode": {
    "name": "ipython",
    "version": 3
   },
   "file_extension": ".py",
   "mimetype": "text/x-python",
   "name": "python",
   "nbconvert_exporter": "python",
   "pygments_lexer": "ipython3",
   "version": "3.9.15"
  },
  "toc": {
   "base_numbering": 1,
   "nav_menu": {},
   "number_sections": false,
   "sideBar": true,
   "skip_h1_title": false,
   "title_cell": "Table of Contents",
   "title_sidebar": "Contents",
   "toc_cell": false,
   "toc_position": {
    "height": "calc(100% - 180px)",
    "left": "10px",
    "top": "150px",
    "width": "273.188px"
   },
   "toc_section_display": true,
   "toc_window_display": false
  }
 },
 "nbformat": 4,
 "nbformat_minor": 5
}
